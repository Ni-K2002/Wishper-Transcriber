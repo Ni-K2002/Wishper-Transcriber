{
 "cells": [
  {
   "cell_type": "code",
   "execution_count": 1,
   "id": "38e0ed3a-15fd-479c-b129-c2a8da5a2f30",
   "metadata": {},
   "outputs": [],
   "source": [
    "from transformers import pipeline\n",
    "from pydub import AudioSegment\n"
   ]
  },
  {
   "cell_type": "code",
   "execution_count": 2,
   "id": "b1727aec-2af0-480e-a869-34b81ca6f45f",
   "metadata": {},
   "outputs": [],
   "source": [
    "mp3_path = \"sample.mp3\"\n",
    "wav_path = \"sample.wav\"\n"
   ]
  },
  {
   "cell_type": "code",
   "execution_count": 3,
   "id": "2daf98fd-42ce-4221-88ae-b9c72f53b3b8",
   "metadata": {},
   "outputs": [
    {
     "data": {
      "text/plain": [
       "<_io.BufferedRandom name='sample.wav'>"
      ]
     },
     "execution_count": 3,
     "metadata": {},
     "output_type": "execute_result"
    }
   ],
   "source": [
    "audio = AudioSegment.from_mp3(mp3_path)\n",
    "audio.export(wav_path, format=\"wav\")"
   ]
  },
  {
   "cell_type": "code",
   "execution_count": 4,
   "id": "e6969537-b7fc-4ad3-a14a-4d1b7552adaf",
   "metadata": {},
   "outputs": [
    {
     "name": "stderr",
     "output_type": "stream",
     "text": [
      "Device set to use cpu\n",
      "C:\\Users\\nilka\\AppData\\Local\\Programs\\Python\\Python313\\Lib\\site-packages\\transformers\\models\\whisper\\generation_whisper.py:573: FutureWarning: The input name `inputs` is deprecated. Please make sure to use `input_features` instead.\n",
      "  warnings.warn(\n",
      "Due to a bug fix in https://github.com/huggingface/transformers/pull/28687 transcription using a multilingual Whisper will default to language detection followed by transcription instead of translation to English.This might be a breaking change for your use case. If you want to instead always translate your audio to English, make sure to pass `language='en'`.\n"
     ]
    }
   ],
   "source": [
    "asr = pipeline(\"automatic-speech-recognition\", model=\"openai/whisper-small\")\n",
    "result = asr(wav_path)"
   ]
  },
  {
   "cell_type": "code",
   "execution_count": 5,
   "id": "4d692a1e-c5cd-4182-b6d3-8377d2388dd0",
   "metadata": {},
   "outputs": [
    {
     "name": "stdout",
     "output_type": "stream",
     "text": [
      " Peter wanted to enter the drawing competition but he was too late to enter and he missed the board.\n"
     ]
    }
   ],
   "source": [
    "print(result['text'])\n"
   ]
  },
  {
   "cell_type": "code",
   "execution_count": null,
   "id": "d0af76fd-ac57-46e1-bed8-92b48da518bf",
   "metadata": {},
   "outputs": [],
   "source": []
  }
 ],
 "metadata": {
  "kernelspec": {
   "display_name": "Python 3 (ipykernel)",
   "language": "python",
   "name": "python3"
  },
  "language_info": {
   "codemirror_mode": {
    "name": "ipython",
    "version": 3
   },
   "file_extension": ".py",
   "mimetype": "text/x-python",
   "name": "python",
   "nbconvert_exporter": "python",
   "pygments_lexer": "ipython3",
   "version": "3.13.3"
  }
 },
 "nbformat": 4,
 "nbformat_minor": 5
}
